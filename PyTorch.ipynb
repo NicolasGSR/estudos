{
  "nbformat": 4,
  "nbformat_minor": 0,
  "metadata": {
    "colab": {
      "provenance": [],
      "gpuType": "T4",
      "authorship_tag": "ABX9TyPILbgLP8uYf9YwHSEQ64jg"
    },
    "kernelspec": {
      "name": "python3",
      "display_name": "Python 3"
    },
    "language_info": {
      "name": "python"
    },
    "accelerator": "GPU"
  },
  "cells": [
    {
      "cell_type": "code",
      "execution_count": 1,
      "metadata": {
        "id": "UdGnMiiUXu-U"
      },
      "outputs": [],
      "source": [
        "import torch\n",
        "import numpy as np"
      ]
    },
    {
      "cell_type": "code",
      "source": [
        "lista = [[1,2,3],\n",
        "         [4,5,6]]\n",
        "\n",
        "tns = torch.Tensor(lista)\n",
        "print(tns.dtype)\n",
        "print(tns)\n",
        "\n",
        "tns = torch.FloatTensor(lista)\n",
        "print(tns.dtype)\n",
        "print(tns)\n",
        "\n",
        "tns = torch.DoubleTensor(lista)\n",
        "print(tns.dtype)\n",
        "print(tns)\n",
        "\n",
        "tns = torch.LongTensor(lista)\n",
        "print(tns.dtype)\n",
        "print(tns)"
      ],
      "metadata": {
        "colab": {
          "base_uri": "https://localhost:8080/"
        },
        "id": "aQ-UipyQYEJ3",
        "outputId": "ab3935a7-9163-43fb-a2b1-196c0103955e"
      },
      "execution_count": 2,
      "outputs": [
        {
          "output_type": "stream",
          "name": "stdout",
          "text": [
            "torch.float32\n",
            "tensor([[1., 2., 3.],\n",
            "        [4., 5., 6.]])\n",
            "torch.float32\n",
            "tensor([[1., 2., 3.],\n",
            "        [4., 5., 6.]])\n",
            "torch.float64\n",
            "tensor([[1., 2., 3.],\n",
            "        [4., 5., 6.]], dtype=torch.float64)\n",
            "torch.int64\n",
            "tensor([[1, 2, 3],\n",
            "        [4, 5, 6]])\n"
          ]
        }
      ]
    },
    {
      "cell_type": "code",
      "source": [
        "arr = np.random.rand(3,4)\n",
        "tns = torch.from_numpy(arr)\n",
        "\n",
        "print(arr)\n",
        "print(arr.dtype)"
      ],
      "metadata": {
        "colab": {
          "base_uri": "https://localhost:8080/"
        },
        "id": "ETsMpnjZYtf2",
        "outputId": "b04849da-116a-4cc9-ee97-1d1d252e1dfa"
      },
      "execution_count": 3,
      "outputs": [
        {
          "output_type": "stream",
          "name": "stdout",
          "text": [
            "[[0.09232136 0.10977664 0.38860038 0.38813137]\n",
            " [0.71318805 0.76698717 0.61157184 0.31931434]\n",
            " [0.81116153 0.27985496 0.82715051 0.24718491]]\n",
            "float64\n"
          ]
        }
      ]
    },
    {
      "cell_type": "code",
      "source": [
        "tns1 = torch.ones(2,3)\n",
        "tns0 = torch.zeros(4,5)\n",
        "tnsr = torch.randn(3,3)\n",
        "\n",
        "print(tns1)\n",
        "print(tns0)\n",
        "print(tnsr)"
      ],
      "metadata": {
        "colab": {
          "base_uri": "https://localhost:8080/"
        },
        "id": "Daegq8WWZXgk",
        "outputId": "ef2655b4-37d0-4329-9edc-5f7e05b05a6b"
      },
      "execution_count": 4,
      "outputs": [
        {
          "output_type": "stream",
          "name": "stdout",
          "text": [
            "tensor([[1., 1., 1.],\n",
            "        [1., 1., 1.]])\n",
            "tensor([[0., 0., 0., 0., 0.],\n",
            "        [0., 0., 0., 0., 0.],\n",
            "        [0., 0., 0., 0., 0.],\n",
            "        [0., 0., 0., 0., 0.]])\n",
            "tensor([[-0.6141,  1.0201,  0.9649],\n",
            "        [-1.3798, -0.1652,  0.4816],\n",
            "        [ 0.0716,  0.4583, -0.6595]])\n"
          ]
        }
      ]
    },
    {
      "cell_type": "code",
      "source": [
        "arr = tnsr.data.numpy()"
      ],
      "metadata": {
        "id": "wDPj_VhOZxet"
      },
      "execution_count": 5,
      "outputs": []
    },
    {
      "cell_type": "code",
      "source": [
        "print(type(arr))"
      ],
      "metadata": {
        "colab": {
          "base_uri": "https://localhost:8080/"
        },
        "id": "ThYmaRs2aEak",
        "outputId": "c3adb490-a2e1-4c28-e411-47aebfbb9a06"
      },
      "execution_count": 6,
      "outputs": [
        {
          "output_type": "stream",
          "name": "stdout",
          "text": [
            "<class 'numpy.ndarray'>\n"
          ]
        }
      ]
    },
    {
      "cell_type": "code",
      "source": [
        "print(tnsr)\n",
        "tnsr[0, 2] = -10\n",
        "print('')\n",
        "print(tnsr)"
      ],
      "metadata": {
        "colab": {
          "base_uri": "https://localhost:8080/"
        },
        "id": "7-ZAhFAwaIFE",
        "outputId": "0ec1955b-c52e-4c90-96d4-63e5c313a3f3"
      },
      "execution_count": 7,
      "outputs": [
        {
          "output_type": "stream",
          "name": "stdout",
          "text": [
            "tensor([[-0.6141,  1.0201,  0.9649],\n",
            "        [-1.3798, -0.1652,  0.4816],\n",
            "        [ 0.0716,  0.4583, -0.6595]])\n",
            "\n",
            "tensor([[ -0.6141,   1.0201, -10.0000],\n",
            "        [ -1.3798,  -0.1652,   0.4816],\n",
            "        [  0.0716,   0.4583,  -0.6595]])\n"
          ]
        }
      ]
    },
    {
      "cell_type": "code",
      "source": [
        "print(tnsr[0:2])"
      ],
      "metadata": {
        "colab": {
          "base_uri": "https://localhost:8080/"
        },
        "id": "XfAFa7bFaREs",
        "outputId": "43962442-a9cb-415f-eaa9-5322a7c442a5"
      },
      "execution_count": 8,
      "outputs": [
        {
          "output_type": "stream",
          "name": "stdout",
          "text": [
            "tensor([[ -0.6141,   1.0201, -10.0000],\n",
            "        [ -1.3798,  -0.1652,   0.4816]])\n"
          ]
        }
      ]
    },
    {
      "cell_type": "code",
      "source": [
        "tns = tnsr[0:2, :]\n",
        "print(tns)\n",
        "print('')\n",
        "tnsr = torch.randn(2,3)\n",
        "print(tnsr)\n",
        "print('')\n",
        "\n",
        "print(tns*tnsr)\n",
        "print('')\n",
        "print(tns+tnsr)\n",
        "print('')\n",
        "print(tns-tnsr)\n",
        "print('')\n",
        "print(tns/tnsr)"
      ],
      "metadata": {
        "colab": {
          "base_uri": "https://localhost:8080/"
        },
        "id": "KY5PSFmbaZh-",
        "outputId": "385b5a5b-69ab-4672-d9cf-91d9c9cda273"
      },
      "execution_count": 9,
      "outputs": [
        {
          "output_type": "stream",
          "name": "stdout",
          "text": [
            "tensor([[ -0.6141,   1.0201, -10.0000],\n",
            "        [ -1.3798,  -0.1652,   0.4816]])\n",
            "\n",
            "tensor([[-0.4284, -0.8206,  0.1091],\n",
            "        [ 1.6170, -0.0996,  0.4144]])\n",
            "\n",
            "tensor([[ 0.2631, -0.8371, -1.0909],\n",
            "        [-2.2311,  0.0164,  0.1995]])\n",
            "\n",
            "tensor([[-1.0425,  0.1994, -9.8909],\n",
            "        [ 0.2372, -0.2648,  0.8959]])\n",
            "\n",
            "tensor([[ -0.1857,   1.8407, -10.1091],\n",
            "        [ -2.9968,  -0.0657,   0.0672]])\n",
            "\n",
            "tensor([[  1.4334,  -1.2430, -91.6663],\n",
            "        [ -0.8533,   1.6594,   1.1622]])\n"
          ]
        }
      ]
    },
    {
      "cell_type": "code",
      "source": [
        "print(tnsr.shape)\n",
        "print('')\n",
        "print(tnsr.size())"
      ],
      "metadata": {
        "colab": {
          "base_uri": "https://localhost:8080/"
        },
        "id": "zY9e0uulb1ap",
        "outputId": "fd3f2504-7253-408e-b731-ca6a5360644a"
      },
      "execution_count": 10,
      "outputs": [
        {
          "output_type": "stream",
          "name": "stdout",
          "text": [
            "torch.Size([2, 3])\n",
            "\n",
            "torch.Size([2, 3])\n"
          ]
        }
      ]
    },
    {
      "cell_type": "code",
      "source": [
        "tns = torch.randn(2,2,3)\n",
        "print(tns)"
      ],
      "metadata": {
        "colab": {
          "base_uri": "https://localhost:8080/"
        },
        "id": "bxTQ4h8ucRqA",
        "outputId": "e6994a03-9f49-445d-ab55-777a1987dd9f"
      },
      "execution_count": 11,
      "outputs": [
        {
          "output_type": "stream",
          "name": "stdout",
          "text": [
            "tensor([[[ 0.3346,  0.6733, -1.1806],\n",
            "         [ 0.2905, -0.8753, -0.5845]],\n",
            "\n",
            "        [[ 0.1939, -2.1258, -0.3763],\n",
            "         [-1.3194, -0.7786,  1.6075]]])\n"
          ]
        }
      ]
    },
    {
      "cell_type": "code",
      "source": [
        "print(tns.size())\n",
        "print('')\n",
        "tns = tns.view(tns.size(0), -1)\n",
        "print(tns)\n",
        "print('')\n",
        "print(tns)"
      ],
      "metadata": {
        "colab": {
          "base_uri": "https://localhost:8080/"
        },
        "id": "_cOktbOkcos3",
        "outputId": "b2a8e6be-5558-4e1b-aaa2-e52c52629803"
      },
      "execution_count": 12,
      "outputs": [
        {
          "output_type": "stream",
          "name": "stdout",
          "text": [
            "torch.Size([2, 2, 3])\n",
            "\n",
            "tensor([[ 0.3346,  0.6733, -1.1806,  0.2905, -0.8753, -0.5845],\n",
            "        [ 0.1939, -2.1258, -0.3763, -1.3194, -0.7786,  1.6075]])\n",
            "\n",
            "tensor([[ 0.3346,  0.6733, -1.1806,  0.2905, -0.8753, -0.5845],\n",
            "        [ 0.1939, -2.1258, -0.3763, -1.3194, -0.7786,  1.6075]])\n"
          ]
        }
      ]
    },
    {
      "cell_type": "code",
      "source": [
        "if torch.cuda.is_available():\n",
        "  device = torch.device('cuda')\n",
        "else:\n",
        "   device = torch.device('cpu')\n",
        "\n",
        "print(device)"
      ],
      "metadata": {
        "colab": {
          "base_uri": "https://localhost:8080/"
        },
        "id": "uxTEWSg6dCd6",
        "outputId": "9ff3d228-bf7f-408f-98de-acb7f4241128"
      },
      "execution_count": 13,
      "outputs": [
        {
          "output_type": "stream",
          "name": "stdout",
          "text": [
            "cuda\n"
          ]
        }
      ]
    },
    {
      "cell_type": "code",
      "source": [
        "tns = tns.to(device)\n",
        "print(tns)"
      ],
      "metadata": {
        "colab": {
          "base_uri": "https://localhost:8080/"
        },
        "id": "I1H2KpKLeTkd",
        "outputId": "08560481-d61c-4bd9-fc00-e8fa4e530ebd"
      },
      "execution_count": 14,
      "outputs": [
        {
          "output_type": "stream",
          "name": "stdout",
          "text": [
            "tensor([[ 0.3346,  0.6733, -1.1806,  0.2905, -0.8753, -0.5845],\n",
            "        [ 0.1939, -2.1258, -0.3763, -1.3194, -0.7786,  1.6075]],\n",
            "       device='cuda:0')\n"
          ]
        }
      ]
    },
    {
      "cell_type": "code",
      "source": [],
      "metadata": {
        "id": "hiLX-gGCesZ1"
      },
      "execution_count": null,
      "outputs": []
    }
  ]
}